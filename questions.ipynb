{
 "cells": [
  {
   "cell_type": "markdown",
   "source": [
    "<div align=center>\n",
    "\t\t\n",
    "<p></p>\n",
    "<p></p>\n",
    "<font size=5>\n",
    "In the Name of God\n",
    "<font/>\n",
    "<p></p>\n",
    " <br/>\n",
    "    <br/>\n",
    "    <br/>\n",
    "<font color=#FF7500>\n",
    "Sharif University of Technology - Departmenet of Computer Engineering\n",
    "</font>\n",
    "<p></p>\n",
    "<font color=blue>\n",
    "Artifical Intelligence - Dr. Mohammad Hossein Rohban\n",
    "</font>\n",
    "<br/>\n",
    "<br/>\n",
    "Fall 2021\n",
    "\n",
    "</div>\n",
    "\n",
    "<hr/>\n",
    "\t\t<div align=center>\n",
    "\t\t    <font color=red size=6>\n",
    "\t\t\t    <br />\n",
    "Practical Assignment 3\n",
    "            \t<br/>\n",
    "\t\t\t</font>\n",
    "    <br/>\n",
    "    <br/>\n",
    "<font size=4>\n",
    "\t\t\t<br/><br/>\n",
    "Deadline: Azar 18th\n",
    "                <br/><b>\n",
    "              Cheating is Strongly Prohibited\n",
    "                </b><br/><br/>\n",
    "                <font color=red>\n",
    "Please run all the cells.\n",
    "     </font>\n",
    "</font>\n",
    "                <br/>\n",
    "    </div>"
   ],
   "metadata": {}
  },
  {
   "cell_type": "markdown",
   "source": [
    "# Personal Data"
   ],
   "metadata": {}
  },
  {
   "cell_type": "code",
   "execution_count": null,
   "source": [
    "# Set your student number\r\n",
    "student_number = 98101193\r\n",
    "Name = 'علیرضا'\r\n",
    "Last_Name = 'ایجی'"
   ],
   "outputs": [],
   "metadata": {
    "collectable": true,
    "execution": {
     "iopub.execute_input": "2021-10-01T16:01:36.762477Z",
     "iopub.status.busy": "2021-10-01T16:01:36.762155Z",
     "iopub.status.idle": "2021-10-01T16:01:36.764025Z",
     "shell.execute_reply": "2021-10-01T16:01:36.763754Z"
    }
   }
  },
  {
   "cell_type": "markdown",
   "source": [
    "# Rules\n",
    "- You are not allowed to add or remove cells. You **must use the provided space to write your code**. If you don't follow this rule, **your Practical Assignment won't be graded**. \n",
    "- There is one cell for your custom functions (if you need any) at the beginning of each question. Please note that this jupyter file might be broken down into 3 or 4 jupyter notebooks for easier grading, so you **must write your custom functions in the correct cell**.\n",
    "- By running the cell below, you can see if your jupyter file is accepted or not. This cell will also **generate a python file which you'll have to upload to Quera** (as well as your jupyter file). The python file will later be validated and if the code in both files doesn't match, **your Practical Assignment won't be graded**.\n",
    "- This assignment is due Azar 18th 23:59:59. you can use up to 10 grace days for this assignment and the hard deadline is Azar 28th 23:59:59."
   ],
   "metadata": {}
  },
  {
   "cell_type": "code",
   "execution_count": null,
   "source": [
    "# remember to save your jupyter file before running this script\r\n",
    "from Helper_codes.validator import *\r\n",
    "\r\n",
    "python_code = extract_python(\"./questions.ipynb\")\r\n",
    "with open(f'python_code_{student_number}.py', 'w') as file:\r\n",
    "    file.write(python_code)"
   ],
   "outputs": [],
   "metadata": {}
  },
  {
   "cell_type": "markdown",
   "source": [
    "# Q1 (30+5 Points)"
   ],
   "metadata": {}
  },
  {
   "cell_type": "markdown",
   "source": [
    "<font size=4>\n",
    "Author: Pooya Moini\n",
    "\t\t\t<br/>\n",
    "                <font color=red>\n",
    "Please run all the cells.\n",
    "     </font>\n",
    "</font>\n",
    "                <br/>\n",
    "    </div>"
   ],
   "metadata": {}
  },
  {
   "cell_type": "markdown",
   "source": [
    "# Bayesian Networks"
   ],
   "metadata": {
    "collectable": true
   }
  },
  {
   "cell_type": "markdown",
   "source": [
    "In this programming assignment, we will investigate the structure of the binarized MNIST dataset of handwritten digits using Bayesian networks. The dataset contains images of handwritten digits with dimensions $28 \\times 28$ (784) pixels. Consider the Bayesian network in Figure 1 . The network contains two layers of variables. The variables in the bottom layer, $X_{1: 784}$ denote the pixel values of the flattened image. The variables in the top layer, $Z_{1}$ and $Z_{2}$, are referred to as latent variables, because the value of these variables will not be explicitly provided by the data and will have to be inferred."
   ],
   "metadata": {}
  },
  {
   "cell_type": "markdown",
   "source": [
    "![Figure1](./Images/fig1.png)"
   ],
   "metadata": {}
  },
  {
   "cell_type": "markdown",
   "source": [
    "The Bayesian network specifies a joint probability distribution over binary images and latent variables $p\\left(Z_{1}, Z_{2}, X_{1: 784}\\right)$. The model is trained so that the marginal probability of the manifest variables, $p\\left(x_{1: 784}\\right)=\\sum_{z_{1}, z_{2}} p\\left(z_{1}, z_{2}, x_{1: 784}\\right)$ is high on images that look like digits, and low for other images. \n",
    "\n",
    "For this programming assignment, we provide a pretrained model trained_mnist_model. The starter code loads this model and provides functions to directly access the conditional probability tables. Further, we simplify the problem by discretizing the latent and manifest variables such that $\\operatorname{Val}\\left(Z_{1}\\right)=\\operatorname{Val}\\left(Z_{2}\\right)=\\{-3,-2.75, \\ldots, 2.75,3\\}$ and $\\operatorname{Val}\\left(X_{j}\\right)=\\{0,1\\}$, i.e., the image is binary."
   ],
   "metadata": {}
  },
  {
   "cell_type": "markdown",
   "source": [
    "### 1. \n",
    "How many values can the random vector $X_{1: 784}$ take, i.e., how many different $28 \\times 28$ binary images are there?\n",
    "\n",
    "How many parameters would you need to specify an arbitrary probability distribution over all possible $28 \\times 28$ binary images? (5 points)"
   ],
   "metadata": {}
  },
  {
   "cell_type": "code",
   "execution_count": null,
   "source": [
    "# Write here"
   ],
   "outputs": [],
   "metadata": {
    "collectable": true
   }
  },
  {
   "cell_type": "code",
   "execution_count": null,
   "source": [
    "# extra space"
   ],
   "outputs": [],
   "metadata": {
    "collectable": true
   }
  },
  {
   "cell_type": "markdown",
   "source": [
    "Run below codes to load the network and its functions."
   ],
   "metadata": {}
  },
  {
   "cell_type": "code",
   "execution_count": 66,
   "source": [
    "import numpy as np\r\n",
    "import matplotlib.pyplot as plt\r\n",
    "import pickle as pkl\r\n",
    "from scipy.io import loadmat\r\n",
    "\r\n",
    "\r\n",
    "NUM_PIXELS = 28*28"
   ],
   "outputs": [],
   "metadata": {}
  },
  {
   "cell_type": "code",
   "execution_count": 68,
   "source": [
    "def get_p_z1(z1_val):\r\n",
    "    '''\r\n",
    "    Helper. Computes the prior probability for variable z1 to take value z1_val.\r\n",
    "    P(Z1=z1_val)\r\n",
    "    '''\r\n",
    "\r\n",
    "    return bayes_net['prior_z1'][z1_val]\r\n",
    "\r\n",
    "\r\n",
    "def get_p_z2(z2_val):\r\n",
    "    '''\r\n",
    "    Helper. Computes the prior probability for variable z2 to take value z2_val.\r\n",
    "    P(Z2=z2_val)\r\n",
    "    '''\r\n",
    "\r\n",
    "    return bayes_net['prior_z2'][z2_val]\r\n"
   ],
   "outputs": [],
   "metadata": {}
  },
  {
   "cell_type": "code",
   "execution_count": 69,
   "source": [
    "def get_p_xk_cond_z1_z2(z1_val, z2_val, k):\r\n",
    "    '''\r\n",
    "    Helper. Computes the conditional probability that variable xk assumes value 1\r\n",
    "    given that z1 assumes value z1_val and z2 assumes value z2_val\r\n",
    "    P(Xk = 1 | Z1=z1_val , Z2=z2_val)\r\n",
    "    '''\r\n",
    "\r\n",
    "    return bayes_net['cond_likelihood'][(z1_val, z2_val)][0, k-1]\r\n",
    "\r\n",
    "\r\n",
    "def get_p_x_cond_z1_z2(z1_val, z2_val):\r\n",
    "    '''\r\n",
    "    Computes the conditional probability of the entire vector x for x = 1,\r\n",
    "    given that z1 assumes value z1_val and z2 assumes value z2_val\r\n",
    "    '''\r\n",
    "    pk = np.zeros(NUM_PIXELS)\r\n",
    "    for i in range(NUM_PIXELS):\r\n",
    "        pk[i] = get_p_xk_cond_z1_z2(z1_val, z2_val, i+1)\r\n",
    "    return pk"
   ],
   "outputs": [],
   "metadata": {}
  },
  {
   "cell_type": "code",
   "execution_count": 71,
   "source": [
    "def load_model(model_file):\r\n",
    "    '''\r\n",
    "    Loads a default Bayesian network with latent variables (in this case, a\r\n",
    "    variational autoencoder)\r\n",
    "    '''\r\n",
    "\r\n",
    "    with open('Helper_codes/trained_mnist_model', 'rb') as infile:\r\n",
    "        cpts = pkl.load(infile, encoding='bytes')\r\n",
    "\r\n",
    "    model = {}\r\n",
    "    model['prior_z1'] = cpts[0]\r\n",
    "    model['prior_z2'] = cpts[1]\r\n",
    "    model['cond_likelihood'] = cpts[2]\r\n",
    "\r\n",
    "    return model"
   ],
   "outputs": [],
   "metadata": {}
  },
  {
   "cell_type": "code",
   "execution_count": 72,
   "source": [
    "global disc_z1, disc_z2\r\n",
    "n_disc_z = 25\r\n",
    "disc_z1 = np.linspace(-3, 3, n_disc_z)\r\n",
    "disc_z2 = np.linspace(-3, 3, n_disc_z)\r\n",
    "\r\n",
    "global bayes_net\r\n",
    "bayes_net = load_model('Helper_codes/trained_mnist_model')"
   ],
   "outputs": [],
   "metadata": {}
  },
  {
   "cell_type": "markdown",
   "source": [
    "### 2.\n",
    "Produce 5 samples from the joint probability distribution $\\left(z_{1}, z_{2}, x_{1: 784}\\right) \\sim p\\left(Z_{1}, Z_{2}, X_{1: 784}\\right)$, and plot the corresponding images (values of the pixel variables). (7 points)"
   ],
   "metadata": {}
  },
  {
   "cell_type": "code",
   "execution_count": 80,
   "source": [
    "def sample_z1():\r\n",
    "    global bayes_net\r\n",
    "    z1_axis = []\r\n",
    "    size = len(bayes_net['prior_z1'])\r\n",
    "    for i in range(size):\r\n",
    "        if i == 0:\r\n",
    "            z1_axis.append(get_p_z1(-3))\r\n",
    "            continue\r\n",
    "        z1_axis.append(get_p_z1(-3+0.25*i) + z1_axis[i-1])\r\n",
    "    \r\n",
    "    randomNumber = np.random.rand()\r\n",
    "    sampleNum = -3.0\r\n",
    "    for i in range(size):\r\n",
    "        if randomNumber < z1_axis[i]:\r\n",
    "            return sampleNum\r\n",
    "        else:\r\n",
    "            sampleNum = -3 + (i) * 0.25\r\n",
    "\r\n",
    "def sample_z2():\r\n",
    "    global bayes_net\r\n",
    "    z2_axis = []\r\n",
    "    size = len(bayes_net['prior_z2'])\r\n",
    "    for i in range(size):\r\n",
    "        if i ==0:\r\n",
    "            z2_axis.append(get_p_z2(-3))\r\n",
    "            continue\r\n",
    "        z2_axis.append(get_p_z2(-3+0.25*i) + z2_axis[i-1])\r\n",
    "\r\n",
    "    randomNumber = np.random.rand()\r\n",
    "    sampleNum = -3.0\r\n",
    "    for i in range(size):\r\n",
    "        if randomNumber < z2_axis[i]:\r\n",
    "            return sampleNum\r\n",
    "        else:\r\n",
    "            sampleNum = -3 + (i) * 0.25\r\n",
    "\r\n",
    "def sample_xk(z1_value,z2_value,k):\r\n",
    "    p = get_p_xk_cond_z1_z2(z1_value,z2_value,k)\r\n",
    "    randomNum = np.random.rand()\r\n",
    "    if randomNum < p :\r\n",
    "        return 1\r\n",
    "    else:\r\n",
    "        return 0\r\n",
    "\r\n",
    "def sample_joint_probability():\r\n",
    "    z1Num = sample_z1()\r\n",
    "    z2Num = sample_z2()\r\n",
    "    iter_lst = [i for i in range(1,785)]\r\n",
    "    x_samples = []\r\n",
    "    for i in range(1,785):\r\n",
    "        x_samples.append(sample_xk(z1Num,z2Num,i))\r\n",
    "\r\n",
    "    xPoints = np.array(iter_lst)\r\n",
    "    yPoints = np.array(x_samples)\r\n",
    "    plt.plot(xPoints,yPoints,\"o\")\r\n",
    "    plt.show()\r\n"
   ],
   "outputs": [],
   "metadata": {
    "collectable": true
   }
  },
  {
   "cell_type": "code",
   "execution_count": 81,
   "source": [
    "for i in range(5):\r\n",
    "    sample_joint_probability()"
   ],
   "outputs": [
    {
     "output_type": "display_data",
     "data": {
      "text/plain": [
       "<Figure size 432x288 with 1 Axes>"
      ],
      "image/png": "[encoded data removed]"
     },
     "metadata": {
      "needs_background": "light"
     }
    },
    {
     "output_type": "display_data",
     "data": {
      "text/plain": [
       "<Figure size 432x288 with 1 Axes>"
      ],
      "image/png": "[encoded data removed]"
     },
     "metadata": {
      "needs_background": "light"
     }
    },
    {
     "output_type": "display_data",
     "data": {
      "text/plain": [
       "<Figure size 432x288 with 1 Axes>"
      ],
      "image/png": "[encoded data removed]"
     },
     "metadata": {
      "needs_background": "light"
     }
    },
    {
     "output_type": "display_data",
     "data": {
      "text/plain": [
       "<Figure size 432x288 with 1 Axes>"
      ],
      "image/png": "[encoded data removed]"
     },
     "metadata": {
      "needs_background": "light"
     }
    },
    {
     "output_type": "display_data",
     "data": {
      "text/plain": [
       "<Figure size 432x288 with 1 Axes>"
      ],
      "image/png": "[encoded data removed]"
     },
     "metadata": {
      "needs_background": "light"
     }
    }
   ],
   "metadata": {
    "collectable": true
   }
  },
  {
   "cell_type": "markdown",
   "source": [
    "### 3.\n",
    "\n",
    "For each possible value of\n",
    "$$\n",
    "\\left(\\bar{z}_{1}, \\bar{z}_{2}\\right) \\in\\{-3,-2.75, \\ldots, 2.75,3\\} \\times\\{-3,-2.75, \\ldots, 2.75,3\\}\n",
    "$$\n",
    "compute the conditional expectation $E\\left[X_{1: 784} \\mid Z_{1}, Z_{2}=\\left(\\bar{z}_{1}, \\bar{z}_{2}\\right)\\right] .$ This is the expected image corresponding to each possible value of the latent variables $Z_{1}, Z_{2} .$ Plot the images on on a $2 \\mathrm{D}$ grid where the grid axes correspond to $Z_{1}$ and $Z_{2}$ respectively. What is the intuitive role of the $Z_{1}, Z_{2}$ variables in this model? (8 points)"
   ],
   "metadata": {}
  },
  {
   "cell_type": "code",
   "execution_count": null,
   "source": [
    "# write here"
   ],
   "outputs": [],
   "metadata": {
    "collectable": true
   }
  },
  {
   "cell_type": "code",
   "execution_count": 87,
   "source": [
    "def imagePlot():\r\n",
    "    for i in range(-3,3,0.25):\r\n",
    "        for j in range(-3,3,0.25):\r\n",
    "            # imageArr = np.array(get_p_x_cond_z1_z2(0,0))\r\n",
    "            # image = imageArr.reshape(28,28)\r\n",
    "            # plt.imshow(image)\r\n",
    "            print((i,j))\r\n",
    "imagePlot()"
   ],
   "outputs": [
    {
     "output_type": "error",
     "ename": "TypeError",
     "evalue": "'float' object cannot be interpreted as an integer",
     "traceback": [
      "\u001b[1;31m---------------------------------------------------------------------------\u001b[0m",
      "\u001b[1;31mTypeError\u001b[0m                                 Traceback (most recent call last)",
      "\u001b[1;32mC:\\Users\\ALIREZ~1\\AppData\\Local\\Temp/ipykernel_13424/2820600458.py\u001b[0m in \u001b[0;36m<module>\u001b[1;34m\u001b[0m\n\u001b[0;32m      6\u001b[0m             \u001b[1;31m# plt.imshow(image)\u001b[0m\u001b[1;33m\u001b[0m\u001b[1;33m\u001b[0m\u001b[0m\n\u001b[0;32m      7\u001b[0m             \u001b[0mprint\u001b[0m\u001b[1;33m(\u001b[0m\u001b[1;33m(\u001b[0m\u001b[0mi\u001b[0m\u001b[1;33m,\u001b[0m\u001b[0mj\u001b[0m\u001b[1;33m)\u001b[0m\u001b[1;33m)\u001b[0m\u001b[1;33m\u001b[0m\u001b[1;33m\u001b[0m\u001b[0m\n\u001b[1;32m----> 8\u001b[1;33m \u001b[0mimagePlot\u001b[0m\u001b[1;33m(\u001b[0m\u001b[1;33m)\u001b[0m\u001b[1;33m\u001b[0m\u001b[1;33m\u001b[0m\u001b[0m\n\u001b[0m",
      "\u001b[1;32mC:\\Users\\ALIREZ~1\\AppData\\Local\\Temp/ipykernel_13424/2820600458.py\u001b[0m in \u001b[0;36mimagePlot\u001b[1;34m()\u001b[0m\n\u001b[0;32m      1\u001b[0m \u001b[1;32mdef\u001b[0m \u001b[0mimagePlot\u001b[0m\u001b[1;33m(\u001b[0m\u001b[1;33m)\u001b[0m\u001b[1;33m:\u001b[0m\u001b[1;33m\u001b[0m\u001b[1;33m\u001b[0m\u001b[0m\n\u001b[1;32m----> 2\u001b[1;33m     \u001b[1;32mfor\u001b[0m \u001b[0mi\u001b[0m \u001b[1;32min\u001b[0m \u001b[0mrange\u001b[0m\u001b[1;33m(\u001b[0m\u001b[1;33m-\u001b[0m\u001b[1;36m3\u001b[0m\u001b[1;33m,\u001b[0m\u001b[1;36m3\u001b[0m\u001b[1;33m,\u001b[0m\u001b[1;36m0.25\u001b[0m\u001b[1;33m)\u001b[0m\u001b[1;33m:\u001b[0m\u001b[1;33m\u001b[0m\u001b[1;33m\u001b[0m\u001b[0m\n\u001b[0m\u001b[0;32m      3\u001b[0m         \u001b[1;32mfor\u001b[0m \u001b[0mj\u001b[0m \u001b[1;32min\u001b[0m \u001b[0mrange\u001b[0m\u001b[1;33m(\u001b[0m\u001b[1;33m-\u001b[0m\u001b[1;36m3\u001b[0m\u001b[1;33m,\u001b[0m\u001b[1;36m3\u001b[0m\u001b[1;33m,\u001b[0m\u001b[1;36m0.25\u001b[0m\u001b[1;33m)\u001b[0m\u001b[1;33m:\u001b[0m\u001b[1;33m\u001b[0m\u001b[1;33m\u001b[0m\u001b[0m\n\u001b[0;32m      4\u001b[0m             \u001b[1;31m# imageArr = np.array(get_p_x_cond_z1_z2(0,0))\u001b[0m\u001b[1;33m\u001b[0m\u001b[1;33m\u001b[0m\u001b[0m\n\u001b[0;32m      5\u001b[0m             \u001b[1;31m# image = imageArr.reshape(28,28)\u001b[0m\u001b[1;33m\u001b[0m\u001b[1;33m\u001b[0m\u001b[0m\n",
      "\u001b[1;31mTypeError\u001b[0m: 'float' object cannot be interpreted as an integer"
     ]
    }
   ],
   "metadata": {
    "collectable": true
   }
  },
  {
   "cell_type": "code",
   "execution_count": null,
   "source": [
    "mat = loadmat('Helper_codes/testval.mat')\r\n",
    "val_data = mat['val_x']\r\n",
    "test_data = mat['test_x']"
   ],
   "outputs": [],
   "metadata": {}
  },
  {
   "cell_type": "markdown",
   "source": [
    "### 4.\n",
    "You are given a validation and a test dataset. In the test dataset, some images are \"real\" handwritten digits, and some are anomalous (corrupted images). We would like to use our Bayesian network to distinguish real images from the anomalous ones. Intuitively, our Bayesian network should assign low probability to corrupted images and high probability to the real ones, and we can use this for classification. To do this, we first compute the average marginal log-likelihood,\n",
    "$$\n",
    "\\log p\\left(x_{1: 784}\\right)=\\log \\sum_{z_{1}} \\sum_{z_{2}} p\\left(z_{1}, z_{2}, x_{1: 784}\\right)\n",
    "$$\n",
    "on the validation dataset, and the standard deviation (again, standard deviation over the validation set). Consider a simple prediction rule where images with marginal log-likelihood, $\\log p\\left(x_{1: 784}\\right)$, outside three standard deviations of the average marginal log-likelihood are classified as corrupted. Classify images in the test set as corrupted or real using this rule. Then plot a histogram of the marginal log-likelihood for the images classified as \"real\". Plot a separate histogram of the marginal log-likelihood for the images classified as \"corrupted\". (15 points)"
   ],
   "metadata": {}
  },
  {
   "cell_type": "code",
   "execution_count": null,
   "source": [
    "# write here"
   ],
   "outputs": [],
   "metadata": {
    "collectable": true
   }
  },
  {
   "cell_type": "code",
   "execution_count": null,
   "source": [
    "# extra space"
   ],
   "outputs": [],
   "metadata": {
    "collectable": true
   }
  },
  {
   "cell_type": "code",
   "execution_count": null,
   "source": [
    "# extra space"
   ],
   "outputs": [],
   "metadata": {
    "collectable": true
   }
  },
  {
   "cell_type": "markdown",
   "source": [
    "---"
   ],
   "metadata": {}
  },
  {
   "cell_type": "markdown",
   "source": [
    "# Q2 (40 Points)"
   ],
   "metadata": {}
  },
  {
   "cell_type": "markdown",
   "source": [
    "<font size=4>\n",
    "Author: Mohammad Mahdi Asmae\n",
    "\t\t\t<br/>\n",
    "                <font color=red>\n",
    "Please run all the cells.\n",
    "     </font>\n",
    "</font>\n",
    "                <br/>\n",
    "    </div>"
   ],
   "metadata": {}
  },
  {
   "cell_type": "markdown",
   "source": [
    "# Sampling in Bayesian Network"
   ],
   "metadata": {
    "collectable": true
   }
  },
  {
   "cell_type": "markdown",
   "source": [
    "In this assignment, we will implement diffrent methods of sampling and try to compare the methods by varying queries and number of samples. In the next section you will implement Bayesian Network as a Python class with these methods:\n",
    "\n",
    "* CPT: returns conditional probability table of nodes\n",
    "* PMF: returns probability mass function of given query\n",
    "* Sampling: implementation of different sampling methods\n",
    "    \n",
    "We will use following BN in this problem."
   ],
   "metadata": {}
  },
  {
   "cell_type": "markdown",
   "source": [
    "<img src=\"Images/BN.png\" width=1400 height=1200 />"
   ],
   "metadata": {}
  },
  {
   "cell_type": "code",
   "execution_count": null,
   "source": [
    "############################################################\r\n",
    "# import necessary packages in this cell                   #\r\n",
    "# please set a random seed to get the same results in      #\r\n",
    "# different runs (1 Points)                                #\r\n",
    "############################################################"
   ],
   "outputs": [],
   "metadata": {
    "collectable": true
   }
  },
  {
   "cell_type": "code",
   "execution_count": null,
   "source": [
    "# extra space"
   ],
   "outputs": [],
   "metadata": {
    "collectable": true
   }
  },
  {
   "cell_type": "code",
   "execution_count": null,
   "source": [
    "# extra space"
   ],
   "outputs": [],
   "metadata": {
    "collectable": true
   }
  },
  {
   "cell_type": "code",
   "execution_count": null,
   "source": [
    "class BN(object):\r\n",
    "    \"\"\"\r\n",
    "    Bayesian Network implementation with sampling methods as a class\r\n",
    "    \r\n",
    "    Attributes\r\n",
    "    ----------\r\n",
    "    n: int\r\n",
    "        number of variables\r\n",
    "        \r\n",
    "    G: dict\r\n",
    "        Network representation as a dictionary. \r\n",
    "        {variable:[[children],[parents]]} # You can represent the network in other ways. This is only a suggestion.\r\n",
    "    \"\"\"\r\n",
    "    \r\n",
    "    def __init__(self) -> None:\r\n",
    "        ############################################################\r\n",
    "        # Initialzie Bayesian Network                              #\r\n",
    "        # (1 Points)                                               #\r\n",
    "        ############################################################\r\n",
    "        \r\n",
    "        #Your code\r\n",
    "        pass\r\n",
    "    \r\n",
    "    def cpt(self, node, value) -> dict:\r\n",
    "        \"\"\"\r\n",
    "        This is a function that returns cpt of the given node\r\n",
    "        \r\n",
    "        Parameters\r\n",
    "        ----------\r\n",
    "        node:\r\n",
    "            a variable in the bayes' net\r\n",
    "            \r\n",
    "        Returns\r\n",
    "        -------\r\n",
    "        result: dict\r\n",
    "            {value1:{{parent1:p1_value1, parent2:p2_value1, ...}: prob1, ...}, value2: ...}\r\n",
    "        \"\"\"\r\n",
    "        ############################################################\r\n",
    "        # (3 Points)                                               #\r\n",
    "        ############################################################\r\n",
    "        \r\n",
    "        #Your code\r\n",
    "        pass\r\n",
    "    \r\n",
    "    def pmf(self, query, evidence) -> float:\r\n",
    "        \"\"\"\r\n",
    "        This function gets a variable and its value as query and a list of evidences and returns probability mass function P(Q=q|E=e)\r\n",
    "        \r\n",
    "        Parameters\r\n",
    "        ----------\r\n",
    "        query:\r\n",
    "            a variable and its value\r\n",
    "            e.g. ('a', 1)\r\n",
    "        evidence:\r\n",
    "            list of variables and their values\r\n",
    "            e.g. [('b', 0), ('c', 1)]\r\n",
    "        \r\n",
    "        Returns\r\n",
    "        -------\r\n",
    "        PMF: float\r\n",
    "            P(query|evidence)\r\n",
    "        \"\"\"\r\n",
    "        ############################################################\r\n",
    "        # (3 Points)                                               #\r\n",
    "        ############################################################\r\n",
    "        \r\n",
    "        #Your code\r\n",
    "        pass\r\n",
    "    \r\n",
    "    def sampling(self, query, evidence, sampling_method, num_iter, num_burnin = 1e2) -> float:\r\n",
    "        \"\"\"\r\n",
    "        Parameters\r\n",
    "        ----------\r\n",
    "        query: list\r\n",
    "            list of variables an their values\r\n",
    "            e.g. [('a', 0), ('e', 1)]\r\n",
    "        evidence: list\r\n",
    "            list of observed variables and their values\r\n",
    "            e.g. [('b', 0), ('c', 1)]\r\n",
    "        sampling_method:\r\n",
    "            \"Prior\", \"Rejection\", \"Likelihood Weighting\", \"Gibbs\"\r\n",
    "        num_iter:\r\n",
    "            number of the generated samples \r\n",
    "        num_burnin:\r\n",
    "            (used only in gibbs sampling) number of samples that we ignore at the start for gibbs method to converge\r\n",
    "            \r\n",
    "        Returns\r\n",
    "        -------\r\n",
    "        probability: float\r\n",
    "            approximate P(query|evidence) calculated by sampling\r\n",
    "        \"\"\"\r\n",
    "        ############################################################\r\n",
    "        # (27 Points)                                              #\r\n",
    "        #     Prior sampling (6 points)                            #\r\n",
    "        #     Rejection sampling (6 points)                        #\r\n",
    "        #     Likelihood weighting (7 points)                      #\r\n",
    "        #     Gibbs sampling (8 points)                      #\r\n",
    "        ############################################################\r\n",
    "        \r\n",
    "        #Your code\r\n",
    "        pass\r\n",
    "    \r\n",
    "    "
   ],
   "outputs": [],
   "metadata": {
    "collectable": true
   }
  },
  {
   "cell_type": "code",
   "execution_count": null,
   "source": [
    "# extra space"
   ],
   "outputs": [],
   "metadata": {
    "collectable": true
   }
  },
  {
   "cell_type": "code",
   "execution_count": null,
   "source": [
    "# extra space"
   ],
   "outputs": [],
   "metadata": {
    "collectable": true
   }
  },
  {
   "cell_type": "code",
   "execution_count": null,
   "source": [
    "# extra space"
   ],
   "outputs": [],
   "metadata": {
    "collectable": true
   }
  },
  {
   "cell_type": "markdown",
   "source": [
    "In this part you will compare sampling results with real probabilities for these settings:\n",
    "\n",
    "* query: $P(F=1|A=1,E=0)$ , $P(C=0,B=1|F=1,D=0)$\n",
    "* number of samples: 100, 500, 1000, 3000, 10000, 50000\n",
    "\n",
    "First find the probabilities with inference methods, then find the approximate probabilities for the queries with sampling methods with different number of samples. At the end, you will plot errors of diffrent methods by number of samples."
   ],
   "metadata": {}
  },
  {
   "cell_type": "code",
   "execution_count": null,
   "source": [
    "############################################################\r\n",
    "# x-axis: number of samples                                #\r\n",
    "# y-axis: error                                            #\r\n",
    "# Your plot have to contain errors for all diffrent        #\r\n",
    "# methods of sampling that you've implemented (3 Points)   #\r\n",
    "############################################################\r\n",
    "\r\n",
    "#Your code"
   ],
   "outputs": [],
   "metadata": {
    "collectable": true
   }
  },
  {
   "cell_type": "code",
   "execution_count": null,
   "source": [
    "# extra space"
   ],
   "outputs": [],
   "metadata": {
    "collectable": true
   }
  },
  {
   "cell_type": "code",
   "execution_count": null,
   "source": [
    "# extra space"
   ],
   "outputs": [],
   "metadata": {
    "collectable": true
   }
  },
  {
   "cell_type": "markdown",
   "source": [
    "For Gibbs sampling, try diffrent burnin values and report the accuracy (or error)."
   ],
   "metadata": {}
  },
  {
   "cell_type": "code",
   "execution_count": null,
   "source": [
    "############################################################\r\n",
    "# (2 Points)                                         #\r\n",
    "############################################################\r\n",
    "\r\n",
    "#Your code"
   ],
   "outputs": [],
   "metadata": {
    "collectable": true
   }
  },
  {
   "cell_type": "code",
   "execution_count": null,
   "source": [
    "# extra space"
   ],
   "outputs": [],
   "metadata": {
    "collectable": true
   }
  },
  {
   "cell_type": "code",
   "execution_count": null,
   "source": [
    "# extra space"
   ],
   "outputs": [],
   "metadata": {
    "collectable": true
   }
  },
  {
   "cell_type": "markdown",
   "source": [
    "# Q3 (20+ 5 Points)"
   ],
   "metadata": {}
  },
  {
   "cell_type": "markdown",
   "source": [
    "<font size=4>\n",
    "Author: Kian Bakhtari\n",
    "\t\t\t<br/>\n",
    "                <font color=red>\n",
    "Please run all the cells.\n",
    "     </font>\n",
    "</font>\n",
    "                <br/>\n",
    "    </div>"
   ],
   "metadata": {}
  },
  {
   "cell_type": "markdown",
   "source": [
    "## The Puerto Princesa ship"
   ],
   "metadata": {}
  },
  {
   "cell_type": "markdown",
   "source": [
    "At midnight on a fall day in the Philippines, a ship leaves Puerto Princesa City's seaport to Macao, China. After one or two hours, the boat loses its GPS connection because of a technical issue. Captain keeps navigating the ship to its destination, using the stars and four old radio towers, which you can see on the map. Each antenna could measure the ship's coordinates (X, Y) and send them to its receiver. There are five records of towers signals at five different times, available for you in the records.json file. Also, the boat's actual coordinates are available in the real_coordinates.json file. The exact coordinates are ONLY FOR EVALUATION PURPOSES, and you CAN NOT use them as input data. The five dots on the map below are actual coordinates of the ship, at each time step where the records from antennas were received. Also, the map is decorative and is not part of the data."
   ],
   "metadata": {}
  },
  {
   "cell_type": "markdown",
   "source": [
    "![Figure3-1](./Images/map.png)"
   ],
   "metadata": {}
  },
  {
   "cell_type": "markdown",
   "source": [
    "Each tower has a noise that is coming from a gaussian distribution, meaning that every (X, Y) pair that is received from an antenna is actually derived from:\n",
    "\n",
    "X = sample_from_normal_distribution(mean = X_real, std = antenna's std)\n",
    "Y = sample_from_normal_distribution(mean = Y_real, std = antenna's std)\n",
    "\n",
    "Information of radio towers (coordinate and noise standard deviation) is available in the towers_info.json file.\n",
    "\n",
    "The ship's movement between those five different time steps could be mathematically modeled as follows:\n",
    "At each time step, the ship moves D units to the north and F units to either east or west (half of the times west, and half of the times east). D and F are both samples from exponential distributions with a scale of Y_STEP and X_STEP, respectively. Those parameters are available in the moving_model.json file."
   ],
   "metadata": {}
  },
  {
   "cell_type": "markdown",
   "source": [
    "### Hidden Markov Model"
   ],
   "metadata": {}
  },
  {
   "cell_type": "markdown",
   "source": [
    "At this point, you can build a simple HMM and estimate the ship's coordinates using the conditional probabilities that you have. For each time step, calculate the ship's coordinates at that time step and previous time steps, using the tower records received up to that time. In simpler words, calculate:<br>\n",
    "\n",
    "P(coor_0 | records_0)<br>\n",
    "P(coor_1 | records_0, records_1)<br>\n",
    "...<br>\n",
    "P(coor_4 | records_0, records_1, records_2, records_3, records_4)<br>\n"
   ],
   "metadata": {}
  },
  {
   "cell_type": "markdown",
   "source": [
    "The actual coordinates of the ship in the first time step (coor_0) is coming from a 2-dimensional guassian distribution with the mean of Puerto Princesa city's coordinates and covarianve matrix of INIT_COV (scalar) times the identity matrix. INIT_COV and coordinates of Puerto Princesa city is availabel in moving_model.json file."
   ],
   "metadata": {}
  },
  {
   "cell_type": "markdown",
   "source": [
    "## Libraries"
   ],
   "metadata": {}
  },
  {
   "cell_type": "code",
   "execution_count": null,
   "source": [
    "import numpy as np\r\n",
    "import pandas as pd\r\n",
    "from matplotlib import pyplot as plt\r\n",
    "import json\r\n",
    "\r\n",
    "from scipy.stats import norm, expon\r\n",
    "import scipy\r\n",
    "import pandas as pd"
   ],
   "outputs": [],
   "metadata": {}
  },
  {
   "cell_type": "markdown",
   "source": [
    "## Data"
   ],
   "metadata": {}
  },
  {
   "cell_type": "code",
   "execution_count": null,
   "source": [
    "real_coordinates = json.load(open('./inputs/real_coordinates.json'))\r\n",
    "pd.DataFrame(real_coordinates)"
   ],
   "outputs": [],
   "metadata": {}
  },
  {
   "cell_type": "code",
   "execution_count": null,
   "source": [
    "towers_info = json.load(open('./inputs/towers_info.json'))\r\n",
    "pd.DataFrame(towers_info)"
   ],
   "outputs": [],
   "metadata": {}
  },
  {
   "cell_type": "code",
   "execution_count": null,
   "source": [
    "moving_model = json.load(open('./inputs/moving_model.json'))\r\n",
    "moving_model"
   ],
   "outputs": [],
   "metadata": {}
  },
  {
   "cell_type": "code",
   "execution_count": null,
   "source": [
    "records = json.load(open('./inputs/records.json'))\r\n",
    "pd.DataFrame(records)"
   ],
   "outputs": [],
   "metadata": {}
  },
  {
   "cell_type": "markdown",
   "source": [
    "## Functions"
   ],
   "metadata": {}
  },
  {
   "cell_type": "code",
   "execution_count": null,
   "source": [
    "tower_records = [(records.get('Tower1')[i],\r\n",
    "                  records.get('Tower2')[i], \r\n",
    "                  records.get('Tower3')[i], \r\n",
    "                  records.get('Tower4')[i]) for i in range(5)]"
   ],
   "outputs": [],
   "metadata": {}
  },
  {
   "cell_type": "code",
   "execution_count": null,
   "source": [
    "tower_records"
   ],
   "outputs": [],
   "metadata": {}
  },
  {
   "cell_type": "code",
   "execution_count": null,
   "source": [
    "# extra space"
   ],
   "outputs": [],
   "metadata": {
    "collectable": true
   }
  },
  {
   "cell_type": "code",
   "execution_count": null,
   "source": [
    "# extra space"
   ],
   "outputs": [],
   "metadata": {
    "collectable": true
   }
  },
  {
   "cell_type": "code",
   "execution_count": null,
   "source": [
    "def get_mean_towers_coor(time_step: int, tower_records: list):\r\n",
    "    # The average of all four towers measurements at a given time step\r\n",
    "    x = np.average([tower_coor[0] for tower_coor in tower_records[time_step]])\r\n",
    "    y = np.average([tower_coor[1] for tower_coor in tower_records[time_step]])\r\n",
    "    return x, y\r\n",
    "\r\n",
    "\r\n",
    "def P_coor0(coor0):\r\n",
    "    # Distribuiton of initial coordinates (time step 0)\r\n",
    "    x0, y0 = coor0\r\n",
    "    return scipy.stats.multivariate_normal.pdf([x0, y0], \r\n",
    "                            mean=moving_model.get('Peurto_coordinates'), cov=moving_model.get('INIT_COV'))\r\n",
    "\r\n",
    "\r\n",
    "# filling these three functions with apropriate codes: (2 points)\r\n",
    "\r\n",
    "def P_coor_given_prevCoor(coor, prev_coor):\r\n",
    "    # Probability of coordinates at time step i, given the coordinates of time step i-1\r\n",
    "    ############################################################\r\n",
    "    #                                                          #\r\n",
    "    #                    Your code here                        #\r\n",
    "    #                                                          #\r\n",
    "    #                                                          #\r\n",
    "    ############################################################\r\n",
    "    pass\r\n",
    "\r\n",
    "    \r\n",
    "def P_towerCoor_given_coor(tower_coor, tower_std, coor):\r\n",
    "    # Probability of a tower measurement, given the coordinates of the ship\r\n",
    "    ############################################################\r\n",
    "    #                                                          #\r\n",
    "    #                    Your code here                        #\r\n",
    "    #                                                          #\r\n",
    "    #                                                          #\r\n",
    "    ############################################################\r\n",
    "    pass\r\n",
    "    \r\n",
    "    \r\n",
    "def P_record_given_coor(rec, coor, towers_info):\r\n",
    "    # All four measurements of all four towers at time step i, is called the record of thime step i.\r\n",
    "    # This function returns the probability of a record given the ship's coordinates.\r\n",
    "    ############################################################\r\n",
    "    #                                                          #\r\n",
    "    #                    Your code here                        #\r\n",
    "    #                                                          #\r\n",
    "    #                                                          #\r\n",
    "    ############################################################\r\n",
    "    pass\r\n"
   ],
   "outputs": [],
   "metadata": {
    "collectable": true
   }
  },
  {
   "cell_type": "code",
   "execution_count": null,
   "source": [
    "# extra space"
   ],
   "outputs": [],
   "metadata": {
    "collectable": true
   }
  },
  {
   "cell_type": "code",
   "execution_count": null,
   "source": [
    "# extra space"
   ],
   "outputs": [],
   "metadata": {
    "collectable": true
   }
  },
  {
   "cell_type": "code",
   "execution_count": null,
   "source": [
    "def real_coor(time_step):\r\n",
    "    return round(real_coordinates.get('X')[time_step]), round(real_coordinates.get('Y')[time_step])\r\n",
    "\r\n",
    "def dist(coor_a, coor_b):\r\n",
    "    return round(np.sqrt((coor_a[0] - coor_b[0])**2 + (coor_a[1] - coor_b[1])**2))\r\n",
    "\r\n",
    "coor0_estimations = []\r\n",
    "coor1_estimations = []\r\n",
    "coor2_estimations = []\r\n",
    "coor3_estimations = []"
   ],
   "outputs": [],
   "metadata": {}
  },
  {
   "cell_type": "markdown",
   "source": [
    "#### Estimating coordinates_0 from P(coor_0) and record_0"
   ],
   "metadata": {}
  },
  {
   "cell_type": "markdown",
   "source": [
    "In the cell below, you can see the approach for finding the argmax of P(coor_0 | record_0), which is equal to argmax of P(record_0 | coor_0) times P(coor_0).\n",
    "We are not using derivatives to find the argmax, we are actually doing it numerically by trying different coordinates and seeing which one provides the highest probability. <br>\n",
    "\n",
    "#### Recommended approach: You can use gradient descent to find the argmax of probability function, and that will give you 5 extra points."
   ],
   "metadata": {}
  },
  {
   "cell_type": "code",
   "execution_count": null,
   "source": [
    "# argmax P(coor_0 | record_0) = argmax P(record_0 | coor_0) P(coor_0)\r\n",
    "\r\n",
    "best_x0, best_y0 = None, None\r\n",
    "\r\n",
    "max_Px, max_Py = 0, 0\r\n",
    "interval, step = 30, 5\r\n",
    "# Larger interval and smaller step will lead to a more accurate result, but will increase computational \r\n",
    "# complexity deramaticly. Feel free to use other approaches like running this cell more than once and tighten\r\n",
    "# the searching interval with smaller steps. \r\n",
    "# Recommended approach: You can use gradient descent to find the argmax of probability\r\n",
    "# function, and that will give you 5 extra points.\r\n",
    "\r\n",
    "towers_mean_x0, towers_mean_y0 = get_mean_towers_coor(0, tower_records)\r\n",
    "\r\n",
    "for x0 in range(int(towers_mean_x0 - interval), int(towers_mean_x0 + interval), step):\r\n",
    "    for y0 in range(int(towers_mean_y0 - interval), int(towers_mean_y0 + interval), step):\r\n",
    "        \r\n",
    "        coor0 = (x0, y0)\r\n",
    "        rec0 = tower_records[0]\r\n",
    "\r\n",
    "        P_rec0_given_x0, P_rec0_given_y0 = P_record_given_coor(rec0, coor0, towers_info)\r\n",
    "        p_c0 = P_coor0(coor0)\r\n",
    "    \r\n",
    "        Px = P_rec0_given_x0 * p_c0\r\n",
    "        Py = P_rec0_given_y0 * p_c0\r\n",
    "\r\n",
    "        if Px > max_Px:\r\n",
    "            best_x0 = x0\r\n",
    "            max_Px = Px\r\n",
    "\r\n",
    "        if Py > max_Py:\r\n",
    "            best_y0 = y0\r\n",
    "            max_Py = Py\r\n",
    "\r\n",
    "\r\n",
    "coor0_estimations.append((best_x0, best_y0))"
   ],
   "outputs": [],
   "metadata": {}
  },
  {
   "cell_type": "code",
   "execution_count": null,
   "source": [
    "print(f'real_coor0: {real_coor(0)} - Estimated_coor0: {best_x0, best_y0}')\r\n",
    "print(f'Estimation_error: {dist((best_x0, best_y0), real_coor(0))}')"
   ],
   "outputs": [],
   "metadata": {}
  },
  {
   "cell_type": "markdown",
   "source": [
    "#### Estimating coordinates_0 and coordinates_1 from P(coor_0), record_0, and record_1<br>(4 points)"
   ],
   "metadata": {}
  },
  {
   "cell_type": "code",
   "execution_count": null,
   "source": [
    "# extra space"
   ],
   "outputs": [],
   "metadata": {
    "collectable": true
   }
  },
  {
   "cell_type": "code",
   "execution_count": null,
   "source": [
    "# extra space"
   ],
   "outputs": [],
   "metadata": {
    "collectable": true
   }
  },
  {
   "cell_type": "code",
   "execution_count": null,
   "source": [
    "# argmax P(coor_0 | record_0, record_1)\r\n",
    "# argmax P(coor_1 | coor_0, record_0, record_1)\r\n",
    "\r\n",
    "\r\n",
    "max_Px, max_Py = 0, 0\r\n",
    "interval, step = 20, 5\r\n",
    "\r\n",
    "best_x0, best_y0 = None, None\r\n",
    "best_x1, best_y1 = None, None\r\n",
    "\r\n",
    "towers_mean_x1, towers_mean_y1 = get_mean_towers_coor(1, tower_records)\r\n",
    "\r\n",
    "for x0 in range(int(coor0_estimations[-1][0] - interval), int(coor0_estimations[-1][0] + interval), step):\r\n",
    "    for y0 in range(int(coor0_estimations[-1][1] - interval), int(coor0_estimations[-1][1] + interval), step):\r\n",
    "        \r\n",
    "         for x1 in range(int(towers_mean_x1 - interval), int(towers_mean_x1 + interval), step):\r\n",
    "            for y1 in range(int(towers_mean_y1 - interval), int(towers_mean_y1 + interval), step):\r\n",
    "                    \r\n",
    "                coor0 = (x0, y0)\r\n",
    "                coor1 = (x1, y1)\r\n",
    "\r\n",
    "                rec0 = tower_records[0]\r\n",
    "                rec1 = tower_records[1]\r\n",
    "\r\n",
    "        # Similiar to the cell above, calculate the best estimation\r\n",
    "        # of coordinates_0 and coordinates_1\r\n",
    "        ############################################################\r\n",
    "        #                                                          #\r\n",
    "        #                    Your code here                        #\r\n",
    "        #                                                          #\r\n",
    "        #                                                          #\r\n",
    "        ############################################################\r\n",
    "                    \r\n",
    "            \r\n",
    "coor0_estimations.append((best_x0, best_y0))\r\n",
    "coor1_estimations.append((best_x1, best_y1))"
   ],
   "outputs": [],
   "metadata": {
    "collectable": true
   }
  },
  {
   "cell_type": "code",
   "execution_count": null,
   "source": [
    "# extra space"
   ],
   "outputs": [],
   "metadata": {
    "collectable": true
   }
  },
  {
   "cell_type": "code",
   "execution_count": null,
   "source": [
    "# extra space"
   ],
   "outputs": [],
   "metadata": {
    "collectable": true
   }
  },
  {
   "cell_type": "code",
   "execution_count": null,
   "source": [
    "print(f'real_coor0: {real_coor(0)} - Estimated_coor0: {best_x0, best_y0}')\r\n",
    "print(f'Estimation_error: {dist((best_x0, best_y0), real_coor(0))}')\r\n",
    "print()\r\n",
    "print(f'real_coor1: {real_coor(1)} - Estimated_coor1: {best_x1, best_y1}')\r\n",
    "print(f'Estimation_error: {dist((best_x1, best_y1), real_coor(1))}')"
   ],
   "outputs": [],
   "metadata": {}
  },
  {
   "cell_type": "markdown",
   "source": [
    "#### Estimating coordinates_0, coordinates_1 and coordinates_2 from P(coor_0), record_0, record_1, and record_2 <br> (4 points)"
   ],
   "metadata": {}
  },
  {
   "cell_type": "code",
   "execution_count": null,
   "source": [
    "############################################################\r\n",
    "#                                                          #\r\n",
    "#                    Your code here                        #\r\n",
    "#                                                          #\r\n",
    "#                                                          #\r\n",
    "############################################################\r\n",
    "                    "
   ],
   "outputs": [],
   "metadata": {
    "collectable": true
   }
  },
  {
   "cell_type": "code",
   "execution_count": null,
   "source": [
    "# extra space"
   ],
   "outputs": [],
   "metadata": {
    "collectable": true
   }
  },
  {
   "cell_type": "code",
   "execution_count": null,
   "source": [
    "# extra space"
   ],
   "outputs": [],
   "metadata": {
    "collectable": true
   }
  },
  {
   "cell_type": "markdown",
   "source": [
    "#### Estimating coordinates_0, coordinates_1, coordinates_2, and coordinates_3 from  P(coor_0), record_0, record_1, record_2, and record_3 <br> (4 points)"
   ],
   "metadata": {}
  },
  {
   "cell_type": "code",
   "execution_count": null,
   "source": [
    "############################################################\r\n",
    "#                                                          #\r\n",
    "#                    Your code here                        #\r\n",
    "#                                                          #\r\n",
    "#                                                          #\r\n",
    "############################################################\r\n",
    "                    "
   ],
   "outputs": [],
   "metadata": {
    "collectable": true
   }
  },
  {
   "cell_type": "code",
   "execution_count": null,
   "source": [
    "# extra space"
   ],
   "outputs": [],
   "metadata": {
    "collectable": true
   }
  },
  {
   "cell_type": "code",
   "execution_count": null,
   "source": [
    "# extra space"
   ],
   "outputs": [],
   "metadata": {
    "collectable": true
   }
  },
  {
   "cell_type": "markdown",
   "source": [
    "As you know from the theoretical aspect, and you can see from your results, the errors of estimations decrease when you use more records and conditional probabilities."
   ],
   "metadata": {}
  },
  {
   "cell_type": "markdown",
   "source": [
    "#### Plot curves that show using more records, leads to decrease of estimation error.<br>( 6 points)\n"
   ],
   "metadata": {}
  },
  {
   "cell_type": "code",
   "execution_count": null,
   "source": [
    "############################################################\r\n",
    "#                                                          #\r\n",
    "#                    Your code here                        #\r\n",
    "#                                                          #\r\n",
    "#                                                          #\r\n",
    "############################################################"
   ],
   "outputs": [],
   "metadata": {
    "collectable": true
   }
  },
  {
   "cell_type": "code",
   "execution_count": null,
   "source": [
    "# extra space"
   ],
   "outputs": [],
   "metadata": {
    "collectable": true
   }
  },
  {
   "cell_type": "code",
   "execution_count": null,
   "source": [
    "# extra space"
   ],
   "outputs": [],
   "metadata": {
    "collectable": true
   }
  }
 ],
 "metadata": {
  "interpreter": {
   "hash": "63fd5069d213b44bf678585dea6b12cceca9941eaf7f819626cde1f2670de90d"
  },
  "kernelspec": {
   "name": "python3",
   "display_name": "Python 3.9.7 64-bit"
  },
  "language_info": {
   "codemirror_mode": {
    "name": "ipython",
    "version": 3
   },
   "file_extension": ".py",
   "mimetype": "text/x-python",
   "name": "python",
   "nbconvert_exporter": "python",
   "pygments_lexer": "ipython3",
   "version": "3.9.7"
  }
 },
 "nbformat": 4,
 "nbformat_minor": 4
}